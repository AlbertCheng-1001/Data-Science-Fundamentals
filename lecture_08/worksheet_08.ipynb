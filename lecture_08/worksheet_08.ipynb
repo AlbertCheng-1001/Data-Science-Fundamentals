{
 "cells": [
  {
   "attachments": {},
   "cell_type": "markdown",
   "metadata": {},
   "source": [
    "# Worksheet 08\n",
    "\n",
    "Name:  Albert Cheng\n",
    "UID:    U55565220\n",
    "\n",
    "### Topics\n",
    "\n",
    "- Soft Clustering\n",
    "- Clustering Aggregation\n",
    "\n",
    "### Probability Review\n",
    "\n",
    "Read through [the following](https://medium.com/@gallettilance/overview-of-probability-3272b72c82c8)\n",
    "\n",
    "### Soft Clustering\n",
    "\n",
    "We generate 10 data points that come from a normal distribution with mean 5 and variance 1."
   ]
  },
  {
   "cell_type": "code",
   "execution_count": 5,
   "metadata": {},
   "outputs": [
    {
     "name": "stdout",
     "output_type": "stream",
     "text": [
      "[5.059326299592268, 5.02534380024279, 6.018055191199706, 2.608328925559854, 5.420056833104754, 5.139328895917362, 6.493770350783252, 4.823107116040532, 5.712490326996658, 4.733906228678958]\n"
     ]
    }
   ],
   "source": [
    "import random\n",
    "import numpy as np\n",
    "from sklearn.cluster import KMeans\n",
    "\n",
    "mean = 5\n",
    "stdev = 1\n",
    "\n",
    "c1 = np.random.normal(mean, stdev, 10).tolist()\n",
    "print(c1)"
   ]
  },
  {
   "cell_type": "markdown",
   "metadata": {},
   "source": [
    "a) Generate 10 more data points, this time coming from a normal distribution with mean 8 and variance 1."
   ]
  },
  {
   "cell_type": "code",
   "execution_count": 6,
   "metadata": {},
   "outputs": [
    {
     "name": "stdout",
     "output_type": "stream",
     "text": [
      "[4.974710152469152, 6.586628796248338, 7.492346057509461, 9.041732770765602, 8.453079176640859, 9.604971852922361, 8.935684151665244, 8.155484834035356, 8.28315227686027, 7.057714648846334]\n"
     ]
    }
   ],
   "source": [
    "mean = 8\n",
    "stdev = 1\n",
    "c2 = np.random.normal(mean, stdev, 10 ).tolist()\n",
    "print(c2)"
   ]
  },
  {
   "cell_type": "markdown",
   "metadata": {},
   "source": [
    "b) Flip a fair coin 10 times. If the coin lands on H, then pick the last data point of `c1` and remove it from `c1`, if T then pick the last data point from `c2` and remove it from `c2`. Add these 10 points to a list called `data`."
   ]
  },
  {
   "cell_type": "code",
   "execution_count": 7,
   "metadata": {},
   "outputs": [
    {
     "name": "stdout",
     "output_type": "stream",
     "text": [
      "[7.057714648846334, 8.28315227686027, 8.155484834035356, 4.733906228678958, 8.935684151665244, 5.712490326996658, 9.604971852922361, 8.453079176640859, 4.823107116040532, 9.041732770765602]\n"
     ]
    }
   ],
   "source": [
    "data = []\n",
    "for i in range(10):\n",
    "    # flip coin\n",
    "    coin_output = random.choice([0, 1])\n",
    "    if coin_output == 0:\n",
    "        \n",
    "        p1 = c1.pop()\n",
    "        data.append(p1)\n",
    "    else:\n",
    "        p2 = c2.pop()\n",
    "        data.append(p2)\n",
    "print(data)"
   ]
  },
  {
   "cell_type": "markdown",
   "metadata": {},
   "source": [
    "c) This `data` is a Gaussian Mixture Distribution with 2 mixture components. Over the next few questions we will walk through the GMM algorithm to see if we can uncover the parameters we used to generate this data. First, please list all these parameters of the GMM that created `data` and the values we know they have."
   ]
  },
  {
   "cell_type": "markdown",
   "metadata": {},
   "source": [
    "A mean\n",
    "A covariance \n",
    "mixing probability\n"
   ]
  },
  {
   "cell_type": "markdown",
   "metadata": {},
   "source": [
    "d) Let's assume there are two mixture components (note: we could plot the data and make the observation that there are two clusters). The EM algorithm asks us to start with a random `mean_j`, `variance_j`, `P(C_j)` for each component j. One method we could use to find sensible values for these is to apply K means with k=2 here.\n",
    "\n",
    "1. the centroids would be the estimates of the `mean_j`\n",
    "2. the intra-cluster variance could be the estimate of `variance_j`\n",
    "3. the proportion of points in each cluster could be the estimate of `P(C_j)`\n",
    "\n",
    "Go through this process and list the parameter estimates it gives. Are they close or far from the true values?"
   ]
  },
  {
   "cell_type": "code",
   "execution_count": 12,
   "metadata": {},
   "outputs": [
    {
     "name": "stdout",
     "output_type": "stream",
     "text": [
      "[7.057714648846334, 8.28315227686027, 8.155484834035356, 8.935684151665244, 9.604971852922361, 8.453079176640859, 9.041732770765602]\n",
      "[4.733906228678958, 5.712490326996658, 4.823107116040532]\n",
      "P(C_1) = 0.7,  P(C_2) = 0.3\n",
      "mean_1 = 8.504545673105147,  mean_2 = 5.089834557238716\n",
      "var_1 = 0.5646022087291642,  var_2 = 0.1951762368574431\n"
     ]
    },
    {
     "name": "stderr",
     "output_type": "stream",
     "text": [
      "/Library/Frameworks/Python.framework/Versions/3.11/lib/python3.11/site-packages/sklearn/cluster/_kmeans.py:1416: FutureWarning: The default value of `n_init` will change from 10 to 'auto' in 1.4. Set the value of `n_init` explicitly to suppress the warning\n",
      "  super()._check_params_vs_input(X, default_n_init=10)\n"
     ]
    }
   ],
   "source": [
    "kmeans = KMeans(2, init='k-means++').fit(X=np.array(data).reshape(-1, 1))\n",
    "\n",
    "c1 = [x[0] for x in filter(lambda x: x[1] == 0, zip(data, kmeans.labels_))]\n",
    "print(c1)\n",
    "c2 = [x[0] for x in filter(lambda x: x[1] == 1, zip(data, kmeans.labels_))]\n",
    "print(c2)\n",
    "\n",
    "prob_c = [len(c1) / (len(c1) + len(c2)), len(c2) / (len(c1) + len(c2))]\n",
    "mean = [ sum(c1)/len(c1) , sum(c2) / len(c2)]\n",
    "var = [ sum(map(lambda x : (x - mean[0])**2, c1)) / len(c1) , sum((x - mean[1]) ** 2 for x in c2) / len(c2)]\n",
    "\n",
    "print(\"P(C_1) = \" + str(prob_c[0]) + \",  P(C_2) = \" + str(prob_c[1]))\n",
    "print(\"mean_1 = \" + str(mean[0]) + \",  mean_2 = \" + str(mean[1]))\n",
    "print(\"var_1 = \" + str(var[0]) + \",  var_2 = \" + str(var[1]))"
   ]
  },
  {
   "cell_type": "markdown",
   "metadata": {},
   "source": []
  },
  {
   "cell_type": "markdown",
   "metadata": {},
   "source": [
    "e) For each data point, compute `P(C_j | X_i)`. Comment on which cluster you think each point belongs to based on the estimated probabilities. How does that compare to the truth?"
   ]
  },
  {
   "cell_type": "code",
   "execution_count": 13,
   "metadata": {},
   "outputs": [
    {
     "name": "stdout",
     "output_type": "stream",
     "text": [
      "point =  7.057714648846334\n",
      "probability of observing that point if it came from cluster 0 =  0.026498168531707514\n",
      "probability of observing that point if it came from cluster 1 =  1.7204270579290856e-22\n",
      "point =  8.28315227686027\n",
      "probability of observing that point if it came from cluster 0 =  0.6543029389928298\n",
      "probability of observing that point if it came from cluster 1 =  1.5225607065397141e-58\n",
      "point =  8.155484834035356\n",
      "probability of observing that point if it came from cluster 0 =  0.5836718752437983\n",
      "probability of observing that point if it came from cluster 1 =  5.464137164711425e-54\n",
      "point =  4.733906228678958\n",
      "probability of observing that point if it came from cluster 0 =  1.4594101296438646e-10\n",
      "probability of observing that point if it came from cluster 1 =  0.38755757982508815\n",
      "point =  8.935684151665244\n",
      "probability of observing that point if it came from cluster 0 =  0.5278947799388038\n",
      "probability of observing that point if it came from cluster 1 =  9.984597044017186e-85\n",
      "point =  5.712490326996658\n",
      "probability of observing that point if it came from cluster 0 =  3.458517694309258e-06\n",
      "probability of observing that point if it came from cluster 1 =  0.012602647178224657\n",
      "point =  9.604971852922361\n",
      "probability of observing that point if it came from cluster 0 =  0.10575162930873305\n",
      "probability of observing that point if it came from cluster 1 =  1.2612156141730448e-116\n",
      "point =  8.453079176640859\n",
      "probability of observing that point if it came from cluster 0 =  0.70366046832361\n",
      "probability of observing that point if it came from cluster 1 =  6.786152084876225e-65\n",
      "point =  4.823107116040532\n",
      "probability of observing that point if it came from cluster 0 =  4.139873512921254e-10\n",
      "probability of observing that point if it came from cluster 1 =  0.8034172114799061\n",
      "point =  9.041732770765602\n",
      "probability of observing that point if it came from cluster 0 =  0.4493617473215918\n",
      "probability of observing that point if it came from cluster 1 =  1.9297129157379778e-89\n",
      "7.057714648846334\n",
      "Probability of coming from C_1 = 1.0\n",
      "Probability of coming from C_2 = 2.7825541266647522e-21\n",
      "\n",
      "8.28315227686027\n",
      "Probability of coming from C_1 = 1.0\n",
      "Probability of coming from C_2 = 9.972842519901928e-59\n",
      "\n",
      "8.155484834035356\n",
      "Probability of coming from C_1 = 1.0\n",
      "Probability of coming from C_2 = 4.012139645434274e-54\n",
      "\n",
      "4.733906228678958\n",
      "Probability of coming from C_1 = 8.78654031498274e-10\n",
      "Probability of coming from C_2 = 0.999999999121346\n",
      "\n",
      "8.935684151665244\n",
      "Probability of coming from C_1 = 1.0\n",
      "Probability of coming from C_2 = 8.105996083841868e-85\n",
      "\n",
      "5.712490326996658\n",
      "Probability of coming from C_1 = 0.000639921947835198\n",
      "Probability of coming from C_2 = 0.9993600780521649\n",
      "\n",
      "9.604971852922361\n",
      "Probability of coming from C_1 = 1.0\n",
      "Probability of coming from C_2 = 5.11123073030608e-116\n",
      "\n",
      "8.453079176640859\n",
      "Probability of coming from C_1 = 1.0\n",
      "Probability of coming from C_2 = 4.133173631946659e-65\n",
      "\n",
      "4.823107116040532\n",
      "Probability of coming from C_1 = 1.2023273479635172e-09\n",
      "Probability of coming from C_2 = 0.9999999987976727\n",
      "\n",
      "9.041732770765602\n",
      "Probability of coming from C_1 = 1.0\n",
      "Probability of coming from C_2 = 1.8404321817778007e-89\n",
      "\n"
     ]
    }
   ],
   "source": [
    "from scipy.stats import norm\n",
    "\n",
    "prob_c0_x = [] # P(C_0 | X_i)\n",
    "prob_c1_x = [] # P(C_1 | X_i)\n",
    "prob_x = [] # P(X_i)\n",
    "\n",
    "k = 2\n",
    "\n",
    "for p in data:\n",
    "    print(\"point = \", p)\n",
    "    pdf_i = []\n",
    "\n",
    "    for j in range(k):\n",
    "        # P(X_i | C_j)\n",
    "        pdf_i.append(norm.pdf(p, mean[j], var[j]))\n",
    "        print(\"probability of observing that point if it came from cluster \" + str(j) + \" = \", pdf_i[j])\n",
    "        # P(C_j) already computed\n",
    "        prob_c[j]\n",
    "\n",
    "    # P(X_i) = P(C_0)P(X_i | C_0) + P(C_1)P(X_i | C_1)\n",
    "    prob_x = prob_c[0] * pdf_i[0] + prob_c[1] * pdf_i[1]\n",
    "\n",
    "    # P(C_j | X_i) = P(X_i | C_j)P(C_j) / P(X_i)\n",
    "    prob_c0_x.append( pdf_i[0] * prob_c[0]  / prob_x)\n",
    "    prob_c1_x.append( pdf_i[1] * prob_c[1] / prob_x)\n",
    "\n",
    "probs = zip(data, prob_c0_x, prob_c1_x)\n",
    "for p in probs:\n",
    "    print(p[0])\n",
    "    print(\"Probability of coming from C_1 = \" + str(p[1]))\n",
    "    print(\"Probability of coming from C_2 = \" + str(p[2]))\n",
    "    print()\n"
   ]
  },
  {
   "cell_type": "markdown",
   "metadata": {},
   "source": [
    "f) Having computed `P(C_j | X_i)`, update the estimates of `mean_j`, `var_j`, and `P(C_j)`. How different are these values from the original ones you got from K means? briefly comment."
   ]
  },
  {
   "cell_type": "code",
   "execution_count": 14,
   "metadata": {},
   "outputs": [
    {
     "name": "stdout",
     "output_type": "stream",
     "text": [
      "P(C_1) = 0.7000639924028815,  P(C_2) = 0.29993600759711836\n",
      "mean_1 = 8.504290452831814,  mean_2 = 5.0897017120819195\n",
      "var_1 = 0.5652631238181602,  var_2 = 0.1951351437461945\n"
     ]
    }
   ],
   "source": [
    "prob_c = [sum(prob_c0_x)/ len(prob_c0_x), sum(prob_c1_x) / len(prob_c1_x) ]\n",
    "mean = [sum([x[0] * x[1] for x in zip(prob_c0_x, data)]) / sum(prob_c0_x), sum([x[0] * x[1] for x in zip(prob_c1_x, data)]) / sum(prob_c1_x) ]\n",
    "var = [sum([x * (data[i] - mean[0]) ** 2 for i, x in enumerate(prob_c0_x)]) / sum(prob_c0_x),\n",
    "       sum([x * (data[i] - mean[1]) ** 2 for i, x in enumerate(prob_c1_x)]) / sum(prob_c1_x)]\n",
    "\n",
    "print(\"P(C_1) = \" + str(prob_c[0]) + \",  P(C_2) = \" + str(prob_c[1]))\n",
    "print(\"mean_1 = \" + str(mean[0]) + \",  mean_2 = \" + str(mean[1]))\n",
    "print(\"var_1 = \" + str(var[0]) + \",  var_2 = \" + str(var[1]))"
   ]
  },
  {
   "cell_type": "markdown",
   "metadata": {},
   "source": [
    "The values are very similar. "
   ]
  },
  {
   "cell_type": "markdown",
   "metadata": {},
   "source": [
    "g) Update `P(C_j | X_i)`. Comment on any differences or lack thereof you observe."
   ]
  },
  {
   "cell_type": "code",
   "execution_count": 16,
   "metadata": {},
   "outputs": [
    {
     "name": "stdout",
     "output_type": "stream",
     "text": [
      "Data Point: 7.057714648846334\n",
      "Previous P(C_0 | X_i): 1.0, Updated P(C_0 | X_i): 1.0\n",
      "Previous P(C_1 | X_i): 2.7825541266647522e-21, Updated P(C_1 | X_i): 2.6840850491202467e-21\n",
      "\n",
      "Data Point: 8.28315227686027\n",
      "Previous P(C_0 | X_i): 1.0, Updated P(C_0 | X_i): 1.0\n",
      "Previous P(C_1 | X_i): 9.972842519901928e-59, Updated P(C_1 | X_i): 9.328422484933149e-59\n",
      "\n",
      "Data Point: 8.155484834035356\n",
      "Previous P(C_0 | X_i): 1.0, Updated P(C_0 | X_i): 1.0\n",
      "Previous P(C_1 | X_i): 4.012139645434274e-54, Updated P(C_1 | X_i): 3.769789755783551e-54\n",
      "\n",
      "Data Point: 4.733906228678958\n",
      "Previous P(C_0 | X_i): 8.78654031498274e-10, Updated P(C_0 | X_i): 9.26953944586357e-10\n",
      "Previous P(C_1 | X_i): 0.999999999121346, Updated P(C_1 | X_i): 0.999999999073046\n",
      "\n",
      "Data Point: 8.935684151665244\n",
      "Previous P(C_0 | X_i): 1.0, Updated P(C_0 | X_i): 1.0\n",
      "Previous P(C_1 | X_i): 8.105996083841868e-85, Updated P(C_1 | X_i): 7.375415692739903e-85\n",
      "\n",
      "Data Point: 5.712490326996658\n",
      "Previous P(C_0 | X_i): 0.000639921947835198, Updated P(C_0 | X_i): 0.0006620695409353511\n",
      "Previous P(C_1 | X_i): 0.9993600780521649, Updated P(C_1 | X_i): 0.9993379304590646\n",
      "\n",
      "Data Point: 9.604971852922361\n",
      "Previous P(C_0 | X_i): 1.0, Updated P(C_0 | X_i): 1.0\n",
      "Previous P(C_1 | X_i): 5.11123073030608e-116, Updated P(C_1 | X_i): 4.4838956859491086e-116\n",
      "\n",
      "Data Point: 8.453079176640859\n",
      "Previous P(C_0 | X_i): 1.0, Updated P(C_0 | X_i): 1.0\n",
      "Previous P(C_1 | X_i): 4.133173631946659e-65, Updated P(C_1 | X_i): 3.841254140022281e-65\n",
      "\n",
      "Data Point: 4.823107116040532\n",
      "Previous P(C_0 | X_i): 1.2023273479635172e-09, Updated P(C_0 | X_i): 1.265247768929661e-09\n",
      "Previous P(C_1 | X_i): 0.9999999987976727, Updated P(C_1 | X_i): 0.9999999987347522\n",
      "\n",
      "Data Point: 9.041732770765602\n",
      "Previous P(C_0 | X_i): 1.0, Updated P(C_0 | X_i): 1.0\n",
      "Previous P(C_1 | X_i): 1.8404321817778007e-89, Updated P(C_1 | X_i): 1.6658158664749387e-89\n",
      "\n"
     ]
    }
   ],
   "source": [
    "updated_c0_x = []  \n",
    "updated_c1_x = []  \n",
    "\n",
    "for p in data:\n",
    "    # Calculate P(X_i | C_j)\n",
    "    pdf_c0 = norm.pdf(p, mean[0], var[0])\n",
    "    pdf_c1 = norm.pdf(p, mean[1], var[1])\n",
    "\n",
    "    # Calculate updated P(C_j | X_i) using Bayes' theorem\n",
    "    updated_c0 = (pdf_c0 * prob_c[0]) / (pdf_c0 * prob_c[0] + pdf_c1 * prob_c[1])\n",
    "    updated_c1 = (pdf_c1 * prob_c[1]) / (pdf_c0 * prob_c[0] + pdf_c1 * prob_c[1])\n",
    "\n",
    "    updated_c0_x.append(updated_c0)\n",
    "    updated_c1_x.append(updated_c1)\n",
    "for i in range(len(data)):\n",
    "    print(f\"Point: {data[i]}\")\n",
    "    print(f\"Previous P(C_0 | X_i): {prob_c0_x[i]}, Updated P(C_0 | X_i): {updated_c0_x[i]}\")\n",
    "    print(f\"Previous P(C_1 | X_i): {prob_c1_x[i]}, Updated P(C_1 | X_i): {updated_c1_x[i]}\\n\")"
   ]
  },
  {
   "cell_type": "markdown",
   "metadata": {},
   "source": [
    "The values are very similar"
   ]
  },
  {
   "cell_type": "markdown",
   "metadata": {},
   "source": [
    "h) Use `P(C_j | X_i)` to create a hard assignment - label each point as belonging to a specific cluster (0 or 1)"
   ]
  },
  {
   "cell_type": "code",
   "execution_count": null,
   "metadata": {},
   "outputs": [],
   "source": []
  },
  {
   "cell_type": "markdown",
   "metadata": {},
   "source": [
    "### Clustering Aggregation\n",
    "\n",
    "| Point | C | P |\n",
    "|-------|---|---|\n",
    "| A     | 0 | a |\n",
    "| B     | 0 | b |\n",
    "| C     | 2 | b |\n",
    "| D     | 1 | c |\n",
    "| E     | 1 | d |\n",
    "\n",
    "a) Fill in the following table where for each pair of points determine whether C and P agree or disagree on how to cluster that pair."
   ]
  },
  {
   "cell_type": "markdown",
   "metadata": {},
   "source": [
    "| Pair | Disagreement |\n",
    "|------|--------------|\n",
    "| A  B |      agree       |\n",
    "| A  C |      agree       |\n",
    "| A  D |      disagree       |\n",
    "| A  E |      agree       |\n",
    "| B  C |      agree       |\n",
    "| B  D |      agree       |\n",
    "| B  E |      disagree       |\n",
    "| C  D |      disagree       |\n",
    "| C  E |      agree       |\n",
    "| D  E |      agree       |\n"
   ]
  },
  {
   "cell_type": "markdown",
   "metadata": {},
   "source": [
    "As datasets become very large, this process can become computationally challenging.\n",
    "\n",
    "b) Given N points, what is the formula for the number of unique pairs of points one can create?"
   ]
  },
  {
   "cell_type": "markdown",
   "metadata": {},
   "source": []
  },
  {
   "cell_type": "markdown",
   "metadata": {},
   "source": [
    "Assume that clustering C clusters all points in the same cluster and clustering P clusters points as such:\n",
    "\n",
    "| Point | P |\n",
    "|-------|---|\n",
    "| A     | 0 |\n",
    "| B     | 0 |\n",
    "| C     | 0 |\n",
    "| D     | 1 |\n",
    "| E     | 1 |\n",
    "| F     | 2 |\n",
    "| G     | 2 |\n",
    "| H     | 2 |\n",
    "| I     | 2 |\n",
    "\n",
    "c) What is the maximum number of disagreements there could be for a dataset of this size? (use the formula from b)?"
   ]
  },
  {
   "cell_type": "markdown",
   "metadata": {},
   "source": [
    "I dont know"
   ]
  },
  {
   "cell_type": "markdown",
   "metadata": {},
   "source": [
    "d) If we look at cluster 0. There are (3 x 2) / 2 = 3 pairs that agree with C (since all points in C are in the same cluster). For each cluster, determine how many agreements there are. How many total agreements are there? How many disagreements does that mean there are between C and P?"
   ]
  },
  {
   "cell_type": "markdown",
   "metadata": {},
   "source": [
    "I got no clue"
   ]
  },
  {
   "cell_type": "markdown",
   "metadata": {},
   "source": [
    "e) Assuming that filtering the dataset by cluster number is a computationally easy operation, describe an algorithm inspired by the above process that can efficiently compute disagreement distances on large datasets."
   ]
  },
  {
   "cell_type": "markdown",
   "metadata": {},
   "source": [
    "Nothing"
   ]
  }
 ],
 "metadata": {
  "kernelspec": {
   "display_name": "Python 3.11.5 64-bit",
   "language": "python",
   "name": "python3"
  },
  "language_info": {
   "codemirror_mode": {
    "name": "ipython",
    "version": 3
   },
   "file_extension": ".py",
   "mimetype": "text/x-python",
   "name": "python",
   "nbconvert_exporter": "python",
   "pygments_lexer": "ipython3",
   "version": "3.11.5"
  },
  "orig_nbformat": 4,
  "vscode": {
   "interpreter": {
    "hash": "949777d72b0d2535278d3dc13498b2535136f6dfe0678499012e853ee9abcab1"
   }
  }
 },
 "nbformat": 4,
 "nbformat_minor": 2
}
